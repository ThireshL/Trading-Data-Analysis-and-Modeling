{
 "cells": [
  {
   "cell_type": "markdown",
   "id": "34734875",
   "metadata": {},
   "source": [
    "# Data analytics of EXI Dataset\n",
    "\n",
    "- Data collected from https://european-investor-exchange.com/en/trade-list\n"
   ]
  },
  {
   "cell_type": "markdown",
   "id": "dbf076cc",
   "metadata": {},
   "source": [
    "## Step 0 - Familiarisation with data\n",
    "- read csv files of october\n",
    "- basis statistics\n",
    "- descriptive statistics\n",
    "- basic visuals\n",
    "\n",
    "## Step 1 - Data Cleaning\n",
    "- Check and summarize missing values per column using combined_df.isnull().sum().\n",
    "- Drop duplicates with combined_df.drop_duplicates(inplace=True).\n",
    "- Convert data types:\n",
    "- Ensure Quantity and Unit Price are numeric.\n",
    "- Convert Trading day & Trading time UTC to datetime.\n",
    "- Standardize text-based columns such as Side and Price Currency by stripping spaces and converting to uppercase.\n",
    "\n",
    "## Step 2 - Feature Engineering\n",
    "- Add a new column: Trade Amount = Quantity × Unit Price.\n",
    "- Extract datetime features: date, time, hour, day of week.\n",
    "- Create log-transformed or normalized columns for skewed variables if relevant to modeling or visualization.\n",
    "\n",
    "## Step 3 - Exploratory Data Analysis (EDA)\n",
    "- Plot data distributions for Unit Price, Quantity, and Trade Amount.\n",
    "- Explore relationships like Quantity vs Unit Price and Trade Amount vs Side.\n",
    "- Identify time-based trading patterns — daily or hourly volumes and price trends.\n",
    "- Analyze top instruments and venues by total trade quantity or value.\n",
    "\n",
    "## Step 4 - Outlier Detection\n",
    "- Use boxplots or z-score thresholds to highlight outliers in Quantity and Unit Price.\n",
    "- Optionally apply the interquartile range (IQR) method to filter extreme values.\n",
    "- Visualize outlier patterns across Side or Venue Identifier.\n",
    "\n",
    "## Step 5 - Venue & Instrument Analysis\n",
    "- Aggregate by Venue Identifier and Instrument Identifier to observe trading concentration.\n",
    "- Identify instruments or venues with the highest variance in price or volume.\n",
    "- Visualize via bar charts or pie charts the proportion of trading volume by venue/instrument.\n",
    "\n",
    "## Step 6 - Model Preparation\n",
    "- Select relevant features — numeric variables (e.g., Trade Amount, Quantity) and categorical ones (Side, Venue Identifier).\n",
    "- Encode categorical variables using one-hot encoding.\n",
    "- Address data imbalance or skew using sampling or scaling.\n",
    "- Split into training and testing sets for modeling."
   ]
  },
  {
   "cell_type": "code",
   "execution_count": 35,
   "id": "faa13a44",
   "metadata": {},
   "outputs": [],
   "source": [
    "# import basis libraries\n",
    "import os\n",
    "import pandas as pd\n",
    "import seaborn as sns\n",
    "import matplotlib.pyplot as plt\n",
    "import numpy as np"
   ]
  },
  {
   "cell_type": "code",
   "execution_count": 14,
   "id": "8c6c63b2",
   "metadata": {},
   "outputs": [
    {
     "name": "stdout",
     "output_type": "stream",
     "text": [
      "['Official_Trade_List_2025-10-01.csv', 'Official_Trade_List_2025-10-02.csv', 'Official_Trade_List_2025-10-03.csv', 'Official_Trade_List_2025-10-06.csv', 'Official_Trade_List_2025-10-07.csv', 'Official_Trade_List_2025-10-08.csv', 'Official_Trade_List_2025-10-09.csv', 'Official_Trade_List_2025-10-10.csv', 'Official_Trade_List_2025-10-13.csv', 'Official_Trade_List_2025-10-14.csv', 'Official_Trade_List_2025-10-15.csv', 'Official_Trade_List_2025-10-16.csv', 'Official_Trade_List_2025-10-17.csv', 'Official_Trade_List_2025-10-20.csv', 'Official_Trade_List_2025-10-21.csv', 'Official_Trade_List_2025-10-22.csv', 'Official_Trade_List_2025-10-23.csv', 'Official_Trade_List_2025-10-24.csv']\n"
     ]
    }
   ],
   "source": [
    "# List all CSV files in current directory\n",
    "csv_files = [f for f in os.listdir('.') if f.endswith('.csv')]\n",
    "print(csv_files)"
   ]
  },
  {
   "cell_type": "code",
   "execution_count": 15,
   "id": "d81edc78",
   "metadata": {},
   "outputs": [
    {
     "name": "stdout",
     "output_type": "stream",
     "text": [
      "  Trading day & Trading time UTC Instrument Identifier  Quantity  Unit Price  \\\n",
      "0       2025-10-01T05:30:00.424Z          GB00BMHVL512         5      31.080   \n",
      "1       2025-10-01T05:30:00.590Z          JP3224200000        19      54.180   \n",
      "2       2025-10-01T05:30:00.581Z          IE00BK5BQT80         2     139.220   \n",
      "3       2025-10-01T05:30:00.624Z          DE0002635281        19      20.380   \n",
      "4       2025-10-01T05:30:00.596Z          JP3866800000        53       9.184   \n",
      "\n",
      "  Price Currency Venue Identifier Side  \n",
      "0            EUR             HAND    B  \n",
      "1            EUR             HAND    B  \n",
      "2            EUR             HAND    B  \n",
      "3            EUR             HAND    B  \n",
      "4            EUR             HAND    B  \n"
     ]
    }
   ],
   "source": [
    "# read single file to see the schema of the csv file\n",
    "df = pd.read_csv('Official_Trade_List_2025-10-01.csv')\n",
    "\n",
    "# View the first five rows\n",
    "print(df.head(5))\n"
   ]
  },
  {
   "cell_type": "code",
   "execution_count": 16,
   "id": "6fb1c4f5",
   "metadata": {},
   "outputs": [
    {
     "name": "stdout",
     "output_type": "stream",
     "text": [
      "Combined DataFrame shape: (824342, 7)\n"
     ]
    }
   ],
   "source": [
    "# List all CSV files in the current directory\n",
    "csv_files = [f for f in os.listdir('.') if f.endswith('.csv')]\n",
    "\n",
    "# Read and combine them into one DataFrame\n",
    "if csv_files:  # Check if any CSV files exist\n",
    "    combined_df = pd.concat([pd.read_csv(file) for file in csv_files], ignore_index=True)\n",
    "    print(\"Combined DataFrame shape:\", combined_df.shape)\n",
    "else:\n",
    "    print(\"No CSV files found in the current directory.\")\n"
   ]
  },
  {
   "cell_type": "code",
   "execution_count": 6,
   "id": "61ad7e29",
   "metadata": {},
   "outputs": [
    {
     "data": {
      "text/html": [
       "<div>\n",
       "<style scoped>\n",
       "    .dataframe tbody tr th:only-of-type {\n",
       "        vertical-align: middle;\n",
       "    }\n",
       "\n",
       "    .dataframe tbody tr th {\n",
       "        vertical-align: top;\n",
       "    }\n",
       "\n",
       "    .dataframe thead th {\n",
       "        text-align: right;\n",
       "    }\n",
       "</style>\n",
       "<table border=\"1\" class=\"dataframe\">\n",
       "  <thead>\n",
       "    <tr style=\"text-align: right;\">\n",
       "      <th></th>\n",
       "      <th>Trading day &amp; Trading time UTC</th>\n",
       "      <th>Instrument Identifier</th>\n",
       "      <th>Quantity</th>\n",
       "      <th>Unit Price</th>\n",
       "      <th>Price Currency</th>\n",
       "      <th>Venue Identifier</th>\n",
       "      <th>Side</th>\n",
       "    </tr>\n",
       "  </thead>\n",
       "  <tbody>\n",
       "    <tr>\n",
       "      <th>0</th>\n",
       "      <td>2025-10-01T05:30:00.424Z</td>\n",
       "      <td>GB00BMHVL512</td>\n",
       "      <td>5</td>\n",
       "      <td>31.080</td>\n",
       "      <td>EUR</td>\n",
       "      <td>HAND</td>\n",
       "      <td>B</td>\n",
       "    </tr>\n",
       "    <tr>\n",
       "      <th>1</th>\n",
       "      <td>2025-10-01T05:30:00.590Z</td>\n",
       "      <td>JP3224200000</td>\n",
       "      <td>19</td>\n",
       "      <td>54.180</td>\n",
       "      <td>EUR</td>\n",
       "      <td>HAND</td>\n",
       "      <td>B</td>\n",
       "    </tr>\n",
       "    <tr>\n",
       "      <th>2</th>\n",
       "      <td>2025-10-01T05:30:00.581Z</td>\n",
       "      <td>IE00BK5BQT80</td>\n",
       "      <td>2</td>\n",
       "      <td>139.220</td>\n",
       "      <td>EUR</td>\n",
       "      <td>HAND</td>\n",
       "      <td>B</td>\n",
       "    </tr>\n",
       "    <tr>\n",
       "      <th>3</th>\n",
       "      <td>2025-10-01T05:30:00.624Z</td>\n",
       "      <td>DE0002635281</td>\n",
       "      <td>19</td>\n",
       "      <td>20.380</td>\n",
       "      <td>EUR</td>\n",
       "      <td>HAND</td>\n",
       "      <td>B</td>\n",
       "    </tr>\n",
       "    <tr>\n",
       "      <th>4</th>\n",
       "      <td>2025-10-01T05:30:00.596Z</td>\n",
       "      <td>JP3866800000</td>\n",
       "      <td>53</td>\n",
       "      <td>9.184</td>\n",
       "      <td>EUR</td>\n",
       "      <td>HAND</td>\n",
       "      <td>B</td>\n",
       "    </tr>\n",
       "  </tbody>\n",
       "</table>\n",
       "</div>"
      ],
      "text/plain": [
       "  Trading day & Trading time UTC Instrument Identifier  Quantity  Unit Price  \\\n",
       "0       2025-10-01T05:30:00.424Z          GB00BMHVL512         5      31.080   \n",
       "1       2025-10-01T05:30:00.590Z          JP3224200000        19      54.180   \n",
       "2       2025-10-01T05:30:00.581Z          IE00BK5BQT80         2     139.220   \n",
       "3       2025-10-01T05:30:00.624Z          DE0002635281        19      20.380   \n",
       "4       2025-10-01T05:30:00.596Z          JP3866800000        53       9.184   \n",
       "\n",
       "  Price Currency Venue Identifier Side  \n",
       "0            EUR             HAND    B  \n",
       "1            EUR             HAND    B  \n",
       "2            EUR             HAND    B  \n",
       "3            EUR             HAND    B  \n",
       "4            EUR             HAND    B  "
      ]
     },
     "execution_count": 6,
     "metadata": {},
     "output_type": "execute_result"
    }
   ],
   "source": [
    "combined_df.head(5)"
   ]
  },
  {
   "cell_type": "markdown",
   "id": "002e7e31",
   "metadata": {},
   "source": [
    "# Basis Overview\n",
    "- data types\n",
    "- numerical distributions\n",
    "- missing values.\n",
    "- trade price ranges\n",
    "- the most frequently traded instruments"
   ]
  },
  {
   "cell_type": "code",
   "execution_count": 9,
   "id": "a19fffbc",
   "metadata": {},
   "outputs": [
    {
     "data": {
      "text/plain": [
       "Index(['Trading day & Trading time UTC', 'Instrument Identifier', 'Quantity',\n",
       "       'Unit Price', 'Price Currency', 'Venue Identifier', 'Side'],\n",
       "      dtype='object')"
      ]
     },
     "execution_count": 9,
     "metadata": {},
     "output_type": "execute_result"
    }
   ],
   "source": [
    "combined_df.columns"
   ]
  },
  {
   "cell_type": "code",
   "execution_count": 18,
   "id": "5e806b42",
   "metadata": {},
   "outputs": [
    {
     "name": "stdout",
     "output_type": "stream",
     "text": [
      "<class 'pandas.core.frame.DataFrame'>\n",
      "RangeIndex: 824342 entries, 0 to 824341\n",
      "Data columns (total 7 columns):\n",
      " #   Column                          Non-Null Count   Dtype  \n",
      "---  ------                          --------------   -----  \n",
      " 0   Trading day & Trading time UTC  824342 non-null  object \n",
      " 1   Instrument Identifier           824342 non-null  object \n",
      " 2   Quantity                        824342 non-null  int64  \n",
      " 3   Unit Price                      824342 non-null  float64\n",
      " 4   Price Currency                  824342 non-null  object \n",
      " 5   Venue Identifier                824342 non-null  object \n",
      " 6   Side                            824342 non-null  object \n",
      "dtypes: float64(1), int64(1), object(5)\n",
      "memory usage: 44.0+ MB\n"
     ]
    }
   ],
   "source": [
    "combined_df.info()"
   ]
  },
  {
   "cell_type": "code",
   "execution_count": 19,
   "id": "a0e0c7d2",
   "metadata": {},
   "outputs": [
    {
     "name": "stdout",
     "output_type": "stream",
     "text": [
      "           Quantity     Unit Price\n",
      "count  8.243420e+05  824342.000000\n",
      "mean   1.531329e+02     130.124100\n",
      "std    2.526661e+03     328.482551\n",
      "min    1.000000e+00       0.000200\n",
      "25%    3.000000e+00      13.265000\n",
      "50%    1.000000e+01      47.050000\n",
      "75%    4.700000e+01     138.187500\n",
      "max    1.111111e+06  136600.000000\n"
     ]
    }
   ],
   "source": [
    "print(combined_df.describe())"
   ]
  },
  {
   "cell_type": "code",
   "execution_count": 20,
   "id": "d6fe639b",
   "metadata": {},
   "outputs": [
    {
     "name": "stdout",
     "output_type": "stream",
     "text": [
      "Trading day & Trading time UTC    0\n",
      "Instrument Identifier             0\n",
      "Quantity                          0\n",
      "Unit Price                        0\n",
      "Price Currency                    0\n",
      "Venue Identifier                  0\n",
      "Side                              0\n",
      "dtype: int64\n"
     ]
    }
   ],
   "source": [
    "print(combined_df.isnull().sum())"
   ]
  },
  {
   "cell_type": "markdown",
   "id": "fdf47635",
   "metadata": {},
   "source": [
    "### Descriptive statistics\n",
    "-  trade price ranges\n",
    "- the most frequently traded instruments."
   ]
  },
  {
   "cell_type": "code",
   "execution_count": 21,
   "id": "191bf35f",
   "metadata": {},
   "outputs": [
    {
     "name": "stdout",
     "output_type": "stream",
     "text": [
      "         count        mean         std     min        25%    50%        75%  \\\n",
      "Side                                                                          \n",
      "B     525548.0  122.831898  276.026001  0.0005  12.701625  45.10  122.79225   \n",
      "M      21749.0  176.788243  397.406582  0.0030  11.450000  46.00  152.00000   \n",
      "S     277045.0  140.293940  404.663968  0.0002  15.000000  50.99  152.98000   \n",
      "\n",
      "           max  \n",
      "Side            \n",
      "B      14490.0  \n",
      "M       8250.0  \n",
      "S     136600.0  \n"
     ]
    }
   ],
   "source": [
    "print(combined_df.groupby('Side')['Unit Price'].describe())"
   ]
  },
  {
   "cell_type": "code",
   "execution_count": 23,
   "id": "176e485e",
   "metadata": {},
   "outputs": [
    {
     "name": "stdout",
     "output_type": "stream",
     "text": [
      "US26740W1099    16740\n",
      "US67066G1040    16649\n",
      "US0231351067    13734\n",
      "AU000000DRO2    12689\n",
      "US0079031078    12201\n",
      "Name: Instrument Identifier, dtype: int64\n"
     ]
    }
   ],
   "source": [
    "print(combined_df['Instrument Identifier'].value_counts().head(5))"
   ]
  },
  {
   "cell_type": "markdown",
   "id": "4c48365a",
   "metadata": {},
   "source": [
    "### Key Visualizations"
   ]
  },
  {
   "cell_type": "code",
   "execution_count": 24,
   "id": "d2143e30",
   "metadata": {},
   "outputs": [
    {
     "data": {
      "image/png": "[encoded data removed]",
      "text/plain": [
       "<Figure size 432x288 with 1 Axes>"
      ]
     },
     "metadata": {
      "needs_background": "light"
     },
     "output_type": "display_data"
    }
   ],
   "source": [
    "sns.countplot(data=combined_df, x='Side')\n",
    "plt.title('Distribution of Trade Sides')\n",
    "plt.show()\n"
   ]
  },
  {
   "cell_type": "code",
   "execution_count": 26,
   "id": "4c12760a",
   "metadata": {},
   "outputs": [
    {
     "data": {
      "image/png": "[encoded data removed]",
      "text/plain": [
       "<Figure size 432x288 with 1 Axes>"
      ]
     },
     "metadata": {
      "needs_background": "light"
     },
     "output_type": "display_data"
    }
   ],
   "source": [
    "sns.histplot(data=combined_df, x='Unit Price', bins=50, kde=True)\n",
    "plt.title('Distribution of Unit Prices')\n",
    "plt.show()"
   ]
  },
  {
   "cell_type": "code",
   "execution_count": 27,
   "id": "82058b53",
   "metadata": {},
   "outputs": [
    {
     "data": {
      "image/png": "[encoded data removed]",
      "text/plain": [
       "<Figure size 432x288 with 1 Axes>"
      ]
     },
     "metadata": {
      "needs_background": "light"
     },
     "output_type": "display_data"
    }
   ],
   "source": [
    "sns.boxplot(data=combined_df, x='Side', y='Unit Price')\n",
    "plt.title('Unit Price by Trade Side')\n",
    "plt.show()"
   ]
  },
  {
   "cell_type": "code",
   "execution_count": 28,
   "id": "97f422cb",
   "metadata": {},
   "outputs": [
    {
     "data": {
      "image/png": "[encoded data removed]",
      "text/plain": [
       "<Figure size 432x288 with 1 Axes>"
      ]
     },
     "metadata": {
      "needs_background": "light"
     },
     "output_type": "display_data"
    }
   ],
   "source": [
    "sns.scatterplot(data=combined_df, x='Quantity', y='Unit Price', hue='Side', alpha=0.6)\n",
    "plt.title('Quantity vs Unit Price by Side')\n",
    "plt.show()\n"
   ]
  },
  {
   "cell_type": "code",
   "execution_count": 29,
   "id": "03ddbb1e",
   "metadata": {},
   "outputs": [
    {
     "data": {
      "image/png": "[encoded data removed]",
      "text/plain": [
       "<Figure size 864x360 with 1 Axes>"
      ]
     },
     "metadata": {
      "needs_background": "light"
     },
     "output_type": "display_data"
    }
   ],
   "source": [
    "combined_df['Trading day & Trading time UTC'] = pd.to_datetime(combined_df['Trading day & Trading time UTC'])\n",
    "daily_volume = combined_df.groupby(combined_df['Trading day & Trading time UTC'].dt.date)['Quantity'].sum()\n",
    "\n",
    "daily_volume.plot(kind='line', figsize=(12,5), title='Daily Trade Volume Over Time')\n",
    "plt.ylabel('Total Quantity')\n",
    "plt.show()"
   ]
  },
  {
   "cell_type": "markdown",
   "id": "f07ee4d1",
   "metadata": {},
   "source": [
    "## Step-1 Data Cleaning\n",
    "How this helps:\n",
    "\n",
    "- Converts all types correctly for quantitative and time-series analysis.\n",
    "- Normalizes categorical text fields.\n",
    "- Eliminates duplicates and reveals missing data accurately."
   ]
  },
  {
   "cell_type": "code",
   "execution_count": 30,
   "id": "dc3e08b3",
   "metadata": {},
   "outputs": [
    {
     "name": "stdout",
     "output_type": "stream",
     "text": [
      "Trading day & Trading time UTC    0\n",
      "Instrument Identifier             0\n",
      "Quantity                          0\n",
      "Unit Price                        0\n",
      "Price Currency                    0\n",
      "Venue Identifier                  0\n",
      "Side                              0\n",
      "dtype: int64\n",
      "Shape after cleaning: (814987, 7)\n",
      "Remaining null values: Trading day & Trading time UTC    0\n",
      "Instrument Identifier             0\n",
      "Quantity                          0\n",
      "Unit Price                        0\n",
      "Price Currency                    0\n",
      "Venue Identifier                  0\n",
      "Side                              0\n",
      "dtype: int64\n"
     ]
    }
   ],
   "source": [
    "# 1. Check and summarize missing values per column\n",
    "print(combined_df.isnull().sum())\n",
    "\n",
    "# 2. Drop duplicate rows\n",
    "combined_df.drop_duplicates(inplace=True)\n",
    "\n",
    "# 3. Convert data types\n",
    "combined_df['Trading day & Trading time UTC'] = pd.to_datetime(combined_df['Trading day & Trading time UTC'], errors='coerce')\n",
    "combined_df['Quantity'] = pd.to_numeric(combined_df['Quantity'], errors='coerce')\n",
    "combined_df['Unit Price'] = pd.to_numeric(combined_df['Unit Price'], errors='coerce')\n",
    "\n",
    "# 4. Standardize text-based columns\n",
    "combined_df['Side'] = combined_df['Side'].str.strip().str.upper()\n",
    "combined_df['Price Currency'] = combined_df['Price Currency'].str.strip().str.upper()\n",
    "\n",
    "# 5. Summary after cleaning\n",
    "print('Shape after cleaning:', combined_df.shape)\n",
    "print('Remaining null values:', combined_df.isnull().sum())\n"
   ]
  },
  {
   "cell_type": "markdown",
   "id": "d8951769",
   "metadata": {},
   "source": [
    "## Step-2 Feature Engineering\n",
    "\n",
    "- The new Trade Amount column captures trade value and will be key in later analyses.\n",
    "- Extracted date/time fields allow temporal pattern detection (hourly, daily, weekday trends).\n",
    "- Log-transformed features help stabilize variance in price and quantity during visualization and modeling."
   ]
  },
  {
   "cell_type": "code",
   "execution_count": 31,
   "id": "17f51283",
   "metadata": {},
   "outputs": [
    {
     "name": "stdout",
     "output_type": "stream",
     "text": [
      "           Quantity     Unit Price  Trade Amount\n",
      "count  8.149870e+05  814987.000000  8.149870e+05\n",
      "mean   1.540494e+02     129.230254  2.337043e+03\n",
      "std    2.540202e+03     326.898636  2.074727e+04\n",
      "min    1.000000e+00       0.000200  1.400000e-03\n",
      "25%    3.000000e+00      13.265000  2.221725e+02\n",
      "50%    1.000000e+01      46.995000  4.952400e+02\n",
      "75%    4.700000e+01     137.640000  1.503000e+03\n",
      "max    1.111111e+06  136600.000000  9.894333e+06\n",
      "   Trade Date  Trade Hour Trade Weekday  Trade Month\n",
      "0  2025-10-01           5     Wednesday           10\n",
      "1  2025-10-01           5     Wednesday           10\n",
      "2  2025-10-01           5     Wednesday           10\n",
      "3  2025-10-01           5     Wednesday           10\n",
      "4  2025-10-01           5     Wednesday           10\n"
     ]
    }
   ],
   "source": [
    "# 1. Create new derived column: Trade Amount (Quantity × Unit Price)\n",
    "combined_df['Trade Amount'] = combined_df['Quantity'] * combined_df['Unit Price']\n",
    "\n",
    "# 2. Extract datetime components for time-based analysis\n",
    "combined_df['Trade Date'] = combined_df['Trading day & Trading time UTC'].dt.date\n",
    "combined_df['Trade Hour'] = combined_df['Trading day & Trading time UTC'].dt.hour\n",
    "combined_df['Trade Weekday'] = combined_df['Trading day & Trading time UTC'].dt.day_name()\n",
    "combined_df['Trade Month'] = combined_df['Trading day & Trading time UTC'].dt.month\n",
    "\n",
    "# 3. (Optional) Log-transform skewed numeric features for better visualization later\n",
    "import numpy as np\n",
    "for col in ['Quantity', 'Unit Price', 'Trade Amount']:\n",
    "    combined_df[f'log_{col}'] = np.log1p(combined_df[col])\n",
    "\n",
    "# 4. Quick verification summary\n",
    "print(combined_df[['Quantity', 'Unit Price', 'Trade Amount']].describe())\n",
    "print(combined_df[['Trade Date', 'Trade Hour', 'Trade Weekday', 'Trade Month']].head())\n"
   ]
  },
  {
   "cell_type": "code",
   "execution_count": 32,
   "id": "e75471a6",
   "metadata": {},
   "outputs": [
    {
     "data": {
      "text/html": [
       "<div>\n",
       "<style scoped>\n",
       "    .dataframe tbody tr th:only-of-type {\n",
       "        vertical-align: middle;\n",
       "    }\n",
       "\n",
       "    .dataframe tbody tr th {\n",
       "        vertical-align: top;\n",
       "    }\n",
       "\n",
       "    .dataframe thead th {\n",
       "        text-align: right;\n",
       "    }\n",
       "</style>\n",
       "<table border=\"1\" class=\"dataframe\">\n",
       "  <thead>\n",
       "    <tr style=\"text-align: right;\">\n",
       "      <th></th>\n",
       "      <th>Trading day &amp; Trading time UTC</th>\n",
       "      <th>Instrument Identifier</th>\n",
       "      <th>Quantity</th>\n",
       "      <th>Unit Price</th>\n",
       "      <th>Price Currency</th>\n",
       "      <th>Venue Identifier</th>\n",
       "      <th>Side</th>\n",
       "      <th>Trade Amount</th>\n",
       "      <th>Trade Date</th>\n",
       "      <th>Trade Hour</th>\n",
       "      <th>Trade Weekday</th>\n",
       "      <th>Trade Month</th>\n",
       "      <th>log_Quantity</th>\n",
       "      <th>log_Unit Price</th>\n",
       "      <th>log_Trade Amount</th>\n",
       "    </tr>\n",
       "  </thead>\n",
       "  <tbody>\n",
       "    <tr>\n",
       "      <th>0</th>\n",
       "      <td>2025-10-01 05:30:00.424000+00:00</td>\n",
       "      <td>GB00BMHVL512</td>\n",
       "      <td>5</td>\n",
       "      <td>31.08</td>\n",
       "      <td>EUR</td>\n",
       "      <td>HAND</td>\n",
       "      <td>B</td>\n",
       "      <td>155.40</td>\n",
       "      <td>2025-10-01</td>\n",
       "      <td>5</td>\n",
       "      <td>Wednesday</td>\n",
       "      <td>10</td>\n",
       "      <td>1.791759</td>\n",
       "      <td>3.468233</td>\n",
       "      <td>5.052417</td>\n",
       "    </tr>\n",
       "    <tr>\n",
       "      <th>1</th>\n",
       "      <td>2025-10-01 05:30:00.590000+00:00</td>\n",
       "      <td>JP3224200000</td>\n",
       "      <td>19</td>\n",
       "      <td>54.18</td>\n",
       "      <td>EUR</td>\n",
       "      <td>HAND</td>\n",
       "      <td>B</td>\n",
       "      <td>1029.42</td>\n",
       "      <td>2025-10-01</td>\n",
       "      <td>5</td>\n",
       "      <td>Wednesday</td>\n",
       "      <td>10</td>\n",
       "      <td>2.995732</td>\n",
       "      <td>4.010601</td>\n",
       "      <td>6.937722</td>\n",
       "    </tr>\n",
       "    <tr>\n",
       "      <th>2</th>\n",
       "      <td>2025-10-01 05:30:00.581000+00:00</td>\n",
       "      <td>IE00BK5BQT80</td>\n",
       "      <td>2</td>\n",
       "      <td>139.22</td>\n",
       "      <td>EUR</td>\n",
       "      <td>HAND</td>\n",
       "      <td>B</td>\n",
       "      <td>278.44</td>\n",
       "      <td>2025-10-01</td>\n",
       "      <td>5</td>\n",
       "      <td>Wednesday</td>\n",
       "      <td>10</td>\n",
       "      <td>1.098612</td>\n",
       "      <td>4.943213</td>\n",
       "      <td>5.632788</td>\n",
       "    </tr>\n",
       "  </tbody>\n",
       "</table>\n",
       "</div>"
      ],
      "text/plain": [
       "    Trading day & Trading time UTC Instrument Identifier  Quantity  \\\n",
       "0 2025-10-01 05:30:00.424000+00:00          GB00BMHVL512         5   \n",
       "1 2025-10-01 05:30:00.590000+00:00          JP3224200000        19   \n",
       "2 2025-10-01 05:30:00.581000+00:00          IE00BK5BQT80         2   \n",
       "\n",
       "   Unit Price Price Currency Venue Identifier Side  Trade Amount  Trade Date  \\\n",
       "0       31.08            EUR             HAND    B        155.40  2025-10-01   \n",
       "1       54.18            EUR             HAND    B       1029.42  2025-10-01   \n",
       "2      139.22            EUR             HAND    B        278.44  2025-10-01   \n",
       "\n",
       "   Trade Hour Trade Weekday  Trade Month  log_Quantity  log_Unit Price  \\\n",
       "0           5     Wednesday           10      1.791759        3.468233   \n",
       "1           5     Wednesday           10      2.995732        4.010601   \n",
       "2           5     Wednesday           10      1.098612        4.943213   \n",
       "\n",
       "   log_Trade Amount  \n",
       "0          5.052417  \n",
       "1          6.937722  \n",
       "2          5.632788  "
      ]
     },
     "execution_count": 32,
     "metadata": {},
     "output_type": "execute_result"
    }
   ],
   "source": [
    "combined_df.head(3)"
   ]
  },
  {
   "cell_type": "markdown",
   "id": "aeb4dbc5",
   "metadata": {},
   "source": [
    "## Step-3 EDA\n",
    "#### What this step reveals:\n",
    "\n",
    "- Numerical summaries for trade prices, quantities, and total value.\n",
    "- Top traded instruments to identify liquidity concentration.\n",
    "- Side distribution (Buy/Sell ratio).\n",
    "- Temporal patterns — daily and hourly trading activity.\n",
    "- Relationships between trade quantity and unit price."
   ]
  },
  {
   "cell_type": "code",
   "execution_count": 33,
   "id": "c4f456b8",
   "metadata": {},
   "outputs": [
    {
     "name": "stdout",
     "output_type": "stream",
     "text": [
      "\n",
      "[INFO] Descriptive summary of key numeric columns:\n",
      "           Quantity     Unit Price  Trade Amount\n",
      "count  8.149870e+05  814987.000000  8.149870e+05\n",
      "mean   1.540494e+02     129.230254  2.337043e+03\n",
      "std    2.540202e+03     326.898636  2.074727e+04\n",
      "min    1.000000e+00       0.000200  1.400000e-03\n",
      "25%    3.000000e+00      13.265000  2.221725e+02\n",
      "50%    1.000000e+01      46.995000  4.952400e+02\n",
      "75%    4.700000e+01     137.640000  1.503000e+03\n",
      "max    1.111111e+06  136600.000000  9.894333e+06\n",
      "\n",
      "[INFO] Top 10 most traded instruments by total quantity:\n",
      "Instrument Identifier\n",
      "AU000000DRO2    4772523\n",
      "LU0411075020    3512064\n",
      "AU000000ARU5    3396103\n",
      "FR001400PDG8    2891140\n",
      "CA92865M1023    2567906\n",
      "US08862E1091    2517511\n",
      "LU2903252349    2482372\n",
      "US72919P2020    1790996\n",
      "IE00B8GKPP93    1775791\n",
      "FR001400H2X4    1741004\n",
      "Name: Quantity, dtype: int64\n",
      "\n",
      "[INFO] Trade side distribution counts:\n",
      "B    524942\n",
      "S    276774\n",
      "M     13271\n",
      "Name: Side, dtype: int64\n"
     ]
    },
    {
     "data": {
      "image/png": "[encoded data removed]",
      "text/plain": [
       "<Figure size 432x288 with 1 Axes>"
      ]
     },
     "metadata": {
      "needs_background": "light"
     },
     "output_type": "display_data"
    },
    {
     "data": {
      "image/png": "[encoded data removed]",
      "text/plain": [
       "<Figure size 432x288 with 1 Axes>"
      ]
     },
     "metadata": {
      "needs_background": "light"
     },
     "output_type": "display_data"
    },
    {
     "data": {
      "image/png": "[encoded data removed]",
      "text/plain": [
       "<Figure size 432x288 with 1 Axes>"
      ]
     },
     "metadata": {
      "needs_background": "light"
     },
     "output_type": "display_data"
    },
    {
     "data": {
      "image/png": "[encoded data removed]",
      "text/plain": [
       "<Figure size 432x288 with 1 Axes>"
      ]
     },
     "metadata": {
      "needs_background": "light"
     },
     "output_type": "display_data"
    },
    {
     "data": {
      "image/png": "[encoded data removed]",
      "text/plain": [
       "<Figure size 432x288 with 1 Axes>"
      ]
     },
     "metadata": {
      "needs_background": "light"
     },
     "output_type": "display_data"
    }
   ],
   "source": [
    "# 1. Statistical summaries\n",
    "print(\"\\n[INFO] Descriptive summary of key numeric columns:\")\n",
    "print(combined_df[['Quantity', 'Unit Price', 'Trade Amount']].describe())\n",
    "\n",
    "print(\"\\n[INFO] Top 10 most traded instruments by total quantity:\")\n",
    "print(combined_df.groupby('Instrument Identifier')['Quantity'].sum()\n",
    "      .sort_values(ascending=False).head(10))\n",
    "\n",
    "print(\"\\n[INFO] Trade side distribution counts:\")\n",
    "print(combined_df['Side'].value_counts())\n",
    "\n",
    "# 2. Visualizations\n",
    "\n",
    "# Distribution of trade sides\n",
    "sns.countplot(data=combined_df, x='Side')\n",
    "plt.title('Distribution of Trade Sides')\n",
    "plt.xlabel('Trade Side')\n",
    "plt.ylabel('Count')\n",
    "plt.show()\n",
    "\n",
    "# Distribution of unit prices\n",
    "sns.histplot(data=combined_df, x='Unit Price', bins=50, kde=True)\n",
    "plt.title('Distribution of Unit Prices')\n",
    "plt.xlabel('Unit Price')\n",
    "plt.ylabel('Frequency')\n",
    "plt.show()\n",
    "\n",
    "# Quantity vs Unit Price by Side\n",
    "sns.scatterplot(data=combined_df, x='Quantity', y='Unit Price', hue='Side', alpha=0.5)\n",
    "plt.title('Quantity vs Unit Price by Trade Side')\n",
    "plt.xlabel('Quantity')\n",
    "plt.ylabel('Unit Price')\n",
    "plt.show()\n",
    "\n",
    "# Daily trade volume trends\n",
    "daily_volume = combined_df.groupby('Trade Date')['Quantity'].sum().reset_index()\n",
    "sns.lineplot(data=daily_volume, x='Trade Date', y='Quantity')\n",
    "plt.title('Daily Trade Volume Over Time')\n",
    "plt.xlabel('Trade Date')\n",
    "plt.ylabel('Total Quantity')\n",
    "plt.show()\n",
    "\n",
    "# Hourly trade activity trends\n",
    "hourly_volume = combined_df.groupby('Trade Hour')['Quantity'].sum().reset_index()\n",
    "sns.barplot(data=hourly_volume, x='Trade Hour', y='Quantity', palette='viridis')\n",
    "plt.title('Trading Activity by Hour of Day')\n",
    "plt.xlabel('Hour (UTC)')\n",
    "plt.ylabel('Total Quantity')\n",
    "plt.show()\n"
   ]
  },
  {
   "cell_type": "markdown",
   "id": "094db6ee",
   "metadata": {},
   "source": [
    "## Step-4: OutliersDetection\n",
    "- Boxplots quickly highlight extreme outliers visually.\n",
    "- The IQR method identifies and removes statistically extreme points while preserving most of the valid observations.\n",
    "- Comparing statistics before and after filtering quantifies the effect of outlier handling on Quantity and Unit Price."
   ]
  },
  {
   "cell_type": "code",
   "execution_count": null,
   "id": "37a88363",
   "metadata": {},
   "outputs": [],
   "source": []
  },
  {
   "cell_type": "code",
   "execution_count": null,
   "id": "756a0133",
   "metadata": {},
   "outputs": [],
   "source": []
  },
  {
   "cell_type": "code",
   "execution_count": 34,
   "id": "8492d68e",
   "metadata": {},
   "outputs": [
    {
     "name": "stdout",
     "output_type": "stream",
     "text": [
      "\n",
      "[INFO] Visualizing Unit Price outliers using boxplot:\n"
     ]
    },
    {
     "data": {
      "image/png": "[encoded data removed]",
      "text/plain": [
       "<Figure size 432x288 with 1 Axes>"
      ]
     },
     "metadata": {
      "needs_background": "light"
     },
     "output_type": "display_data"
    },
    {
     "name": "stdout",
     "output_type": "stream",
     "text": [
      "\n",
      "[INFO] Visualizing Quantity outliers using boxplot:\n"
     ]
    },
    {
     "data": {
      "image/png": "[encoded data removed]",
      "text/plain": [
       "<Figure size 432x288 with 1 Axes>"
      ]
     },
     "metadata": {
      "needs_background": "light"
     },
     "output_type": "display_data"
    },
    {
     "name": "stdout",
     "output_type": "stream",
     "text": [
      "\n",
      "[INFO] Number of Quantity outliers detected: 108893\n",
      "[INFO] Number of Unit Price outliers detected: 62689\n",
      "\n",
      "[INFO] Summary statistics BEFORE filtering outliers:\n",
      "           Quantity     Unit Price\n",
      "count  8.149870e+05  814987.000000\n",
      "mean   1.540494e+02     129.230254\n",
      "std    2.540202e+03     326.898636\n",
      "min    1.000000e+00       0.000200\n",
      "25%    3.000000e+00      13.265000\n",
      "50%    1.000000e+01      46.995000\n",
      "75%    4.700000e+01     137.640000\n",
      "max    1.111111e+06  136600.000000\n",
      "\n",
      "[INFO] Summary statistics AFTER removing outliers:\n",
      "            Quantity     Unit Price\n",
      "count  643612.000000  643612.000000\n",
      "mean       20.051739      77.735879\n",
      "std        25.924893      75.682661\n",
      "min         1.000000       0.000200\n",
      "25%         3.000000      18.542000\n",
      "50%         9.000000      49.545000\n",
      "75%        26.000000     115.240000\n",
      "max       113.000000     324.200000\n",
      "[INFO] New dataset shape after outlier removal: (643612, 15)\n"
     ]
    }
   ],
   "source": [
    "# 1. Visual examination of outliers using boxplots\n",
    "print(\"\\n[INFO] Visualizing Unit Price outliers using boxplot:\")\n",
    "sns.boxplot(data=combined_df, x='Unit Price')\n",
    "plt.title('Unit Price Outlier Detection (Boxplot)')\n",
    "plt.xlabel('Unit Price')\n",
    "plt.show()\n",
    "\n",
    "print(\"\\n[INFO] Visualizing Quantity outliers using boxplot:\")\n",
    "sns.boxplot(data=combined_df, x='Quantity')\n",
    "plt.title('Quantity Outlier Detection (Boxplot)')\n",
    "plt.xlabel('Quantity')\n",
    "plt.show()\n",
    "\n",
    "# 2. Statistical detection using the IQR method\n",
    "def detect_outliers_iqr(series):\n",
    "    Q1 = series.quantile(0.25)\n",
    "    Q3 = series.quantile(0.75)\n",
    "    IQR = Q3 - Q1\n",
    "    lower_bound = Q1 - 1.5 * IQR\n",
    "    upper_bound = Q3 + 1.5 * IQR\n",
    "    outliers = series[(series < lower_bound) | (series > upper_bound)]\n",
    "    return outliers\n",
    "\n",
    "quantity_outliers = detect_outliers_iqr(combined_df['Quantity'])\n",
    "price_outliers = detect_outliers_iqr(combined_df['Unit Price'])\n",
    "\n",
    "print(f\"\\n[INFO] Number of Quantity outliers detected: {len(quantity_outliers)}\")\n",
    "print(f\"[INFO] Number of Unit Price outliers detected: {len(price_outliers)}\")\n",
    "\n",
    "# 3. Statistical comparison before and after filtering\n",
    "print(\"\\n[INFO] Summary statistics BEFORE filtering outliers:\")\n",
    "print(combined_df[['Quantity', 'Unit Price']].describe())\n",
    "\n",
    "# Optionally remove outliers for clean analysis\n",
    "cleaned_df = combined_df[~combined_df['Quantity'].isin(quantity_outliers)]\n",
    "cleaned_df = cleaned_df[~cleaned_df['Unit Price'].isin(price_outliers)]\n",
    "\n",
    "print(\"\\n[INFO] Summary statistics AFTER removing outliers:\")\n",
    "print(cleaned_df[['Quantity', 'Unit Price']].describe())\n",
    "print(f\"[INFO] New dataset shape after outlier removal: {cleaned_df.shape}\")\n"
   ]
  },
  {
   "cell_type": "markdown",
   "id": "82ec59e7",
   "metadata": {},
   "source": [
    "## Step-5 Venue and instrument analysis"
   ]
  },
  {
   "cell_type": "code",
   "execution_count": 36,
   "id": "6c193c42",
   "metadata": {},
   "outputs": [
    {
     "name": "stdout",
     "output_type": "stream",
     "text": [
      "\n",
      "[INFO] Calculating aggregated trading metrics per venue:\n",
      "\n",
      "[INFO] Top 10 venues by total trade amount:\n",
      "                  Quantity  Trade Amount  Instrument Identifier\n",
      "Venue Identifier                                               \n",
      "HAND              12390029  6.130134e+08                   8319\n",
      "undefined           262168  1.415614e+07                   1791\n",
      "HANC                253343  1.154057e+07                     20\n"
     ]
    },
    {
     "data": {
      "image/png": "[encoded data removed]",
      "text/plain": [
       "<Figure size 432x288 with 1 Axes>"
      ]
     },
     "metadata": {
      "needs_background": "light"
     },
     "output_type": "display_data"
    },
    {
     "name": "stdout",
     "output_type": "stream",
     "text": [
      "\n",
      "[INFO] Calculating key trade statistics per instrument:\n",
      "\n",
      "[INFO] Top 10 instruments by total trade amount:\n",
      "                       Quantity  Trade Amount  Unit Price  Venue Identifier\n",
      "Instrument Identifier                                                      \n",
      "US67066G1040             198515  3.159515e+07  159.211466                 2\n",
      "US0079031078             139581  2.605516e+07  187.497773                 2\n",
      "US0231351067             132363  2.488802e+07  187.748146                 2\n",
      "IE00B4L5Y983             128110  1.392948e+07  108.710674                 2\n",
      "IE00B4ND3602             161974  1.110323e+07   68.489085                 2\n",
      "IE00BK5BQT80              78409  1.107433e+07  141.227817                 2\n",
      "US26740W1099             360294  1.092046e+07   30.537828                 2\n",
      "US02079K3059              46292  9.821708e+06  211.905911                 2\n",
      "US69608A1088              54543  8.438704e+06  154.603141                 2\n",
      "US0378331005              36561  8.015045e+06  219.023809                 2\n"
     ]
    },
    {
     "data": {
      "image/png": "[encoded data removed]",
      "text/plain": [
       "<Figure size 432x288 with 1 Axes>"
      ]
     },
     "metadata": {
      "needs_background": "light"
     },
     "output_type": "display_data"
    },
    {
     "name": "stdout",
     "output_type": "stream",
     "text": [
      "\n",
      "[INFO] Analyzing trade side distributions per venue:\n",
      "Side                   B      M       S\n",
      "Venue Identifier                       \n",
      "HANC                6631     97    4010\n",
      "HAND              405415  10289  204333\n",
      "undefined           8401      0    4436\n"
     ]
    },
    {
     "data": {
      "image/png": "[encoded data removed]",
      "text/plain": [
       "<Figure size 720x432 with 1 Axes>"
      ]
     },
     "metadata": {
      "needs_background": "light"
     },
     "output_type": "display_data"
    }
   ],
   "source": [
    "# 1. Aggregated metrics per venue\n",
    "print(\"\\n[INFO] Calculating aggregated trading metrics per venue:\")\n",
    "venue_summary = cleaned_df.groupby('Venue Identifier').agg({\n",
    "    'Quantity': 'sum',\n",
    "    'Trade Amount': 'sum',\n",
    "    'Instrument Identifier': 'nunique'\n",
    "}).sort_values(by='Trade Amount', ascending=False)\n",
    "\n",
    "print(\"\\n[INFO] Top 10 venues by total trade amount:\")\n",
    "print(venue_summary.head(10))\n",
    "\n",
    "# Visualize top trading venues\n",
    "sns.barplot(\n",
    "    data=venue_summary.head(10).reset_index(),\n",
    "    x='Venue Identifier',\n",
    "    y='Trade Amount',\n",
    "    palette='coolwarm'\n",
    ")\n",
    "plt.title('Top 10 Venues by Trade Amount')\n",
    "plt.xlabel('Venue Identifier')\n",
    "plt.ylabel('Total Trade Amount')\n",
    "plt.xticks(rotation=45)\n",
    "plt.show()\n",
    "\n",
    "# 2. Instrument-level analysis\n",
    "print(\"\\n[INFO] Calculating key trade statistics per instrument:\")\n",
    "instrument_summary = cleaned_df.groupby('Instrument Identifier').agg({\n",
    "    'Quantity': 'sum',\n",
    "    'Trade Amount': 'sum',\n",
    "    'Unit Price': 'mean',\n",
    "    'Venue Identifier': 'nunique'\n",
    "}).sort_values(by='Trade Amount', ascending=False)\n",
    "\n",
    "print(\"\\n[INFO] Top 10 instruments by total trade amount:\")\n",
    "print(instrument_summary.head(10))\n",
    "\n",
    "# Visualize instrument concentration\n",
    "sns.barplot(\n",
    "    data=instrument_summary.head(10).reset_index(),\n",
    "    x='Instrument Identifier',\n",
    "    y='Trade Amount',\n",
    "    palette='viridis'\n",
    ")\n",
    "plt.title('Top 10 Instruments by Trade Amount')\n",
    "plt.xlabel('Instrument Identifier')\n",
    "plt.ylabel('Total Trade Amount')\n",
    "plt.xticks(rotation=45)\n",
    "plt.show()\n",
    "\n",
    "# 3. Cross-analysis between Trade Side and Venue\n",
    "print(\"\\n[INFO] Analyzing trade side distributions per venue:\")\n",
    "side_venue = cleaned_df.groupby(['Venue Identifier', 'Side']).size().unstack(fill_value=0)\n",
    "print(side_venue.head())\n",
    "\n",
    "side_venue.plot(kind='bar', stacked=True, figsize=(10,6), colormap='coolwarm')\n",
    "plt.title('Trade Side Distribution per Venue')\n",
    "plt.xlabel('Venue Identifier')\n",
    "plt.ylabel('Trade Count')\n",
    "plt.show()\n"
   ]
  },
  {
   "cell_type": "markdown",
   "id": "753009a4",
   "metadata": {},
   "source": [
    "## Step-7 Model preparation"
   ]
  },
  {
   "cell_type": "code",
   "execution_count": 41,
   "id": "c76d2ca9",
   "metadata": {},
   "outputs": [],
   "source": [
    "ohe = OneHotEncoder(sparse=False, drop='first')"
   ]
  },
  {
   "cell_type": "code",
   "execution_count": 43,
   "id": "297e5e7b",
   "metadata": {},
   "outputs": [
    {
     "name": "stdout",
     "output_type": "stream",
     "text": [
      "\n",
      "[INFO] Selecting relevant modeling features:\n",
      "   Quantity  Unit Price  Trade Amount Price Currency Venue Identifier Side  \\\n",
      "0         5      31.080       155.400            EUR             HAND    B   \n",
      "1        19      54.180      1029.420            EUR             HAND    B   \n",
      "2         2     139.220       278.440            EUR             HAND    B   \n",
      "3        19      20.380       387.220            EUR             HAND    B   \n",
      "4        53       9.184       486.752            EUR             HAND    B   \n",
      "\n",
      "  Instrument Identifier  \n",
      "0          GB00BMHVL512  \n",
      "1          JP3224200000  \n",
      "2          IE00BK5BQT80  \n",
      "3          DE0002635281  \n",
      "4          JP3866800000  \n",
      "\n",
      "[INFO] Encoding categorical features:\n"
     ]
    },
    {
     "ename": "MemoryError",
     "evalue": "Unable to allocate 40.1 GiB for an array with shape (643612, 8359) and data type float64",
     "output_type": "error",
     "traceback": [
      "\u001b[1;31m---------------------------------------------------------------------------\u001b[0m",
      "\u001b[1;31mMemoryError\u001b[0m                               Traceback (most recent call last)",
      "\u001b[1;32m~\\AppData\\Local\\Temp/ipykernel_15444/4204140449.py\u001b[0m in \u001b[0;36m<module>\u001b[1;34m\u001b[0m\n\u001b[0;32m     15\u001b[0m \u001b[0mohe\u001b[0m \u001b[1;33m=\u001b[0m \u001b[0mOneHotEncoder\u001b[0m\u001b[1;33m(\u001b[0m\u001b[0msparse\u001b[0m\u001b[1;33m=\u001b[0m\u001b[1;32mFalse\u001b[0m\u001b[1;33m,\u001b[0m \u001b[0mdrop\u001b[0m\u001b[1;33m=\u001b[0m\u001b[1;34m'first'\u001b[0m\u001b[1;33m)\u001b[0m\u001b[1;33m\u001b[0m\u001b[1;33m\u001b[0m\u001b[0m\n\u001b[0;32m     16\u001b[0m encoded_features = pd.DataFrame(\n\u001b[1;32m---> 17\u001b[1;33m     \u001b[0mohe\u001b[0m\u001b[1;33m.\u001b[0m\u001b[0mfit_transform\u001b[0m\u001b[1;33m(\u001b[0m\u001b[0mmodel_df\u001b[0m\u001b[1;33m[\u001b[0m\u001b[1;33m[\u001b[0m\u001b[1;34m'Price Currency'\u001b[0m\u001b[1;33m,\u001b[0m \u001b[1;34m'Venue Identifier'\u001b[0m\u001b[1;33m,\u001b[0m \u001b[1;34m'Side'\u001b[0m\u001b[1;33m,\u001b[0m \u001b[1;34m'Instrument Identifier'\u001b[0m\u001b[1;33m]\u001b[0m\u001b[1;33m]\u001b[0m\u001b[1;33m)\u001b[0m\u001b[1;33m,\u001b[0m\u001b[1;33m\u001b[0m\u001b[1;33m\u001b[0m\u001b[0m\n\u001b[0m\u001b[0;32m     18\u001b[0m     \u001b[0mcolumns\u001b[0m\u001b[1;33m=\u001b[0m\u001b[0mohe\u001b[0m\u001b[1;33m.\u001b[0m\u001b[0mget_feature_names_out\u001b[0m\u001b[1;33m(\u001b[0m\u001b[1;33m[\u001b[0m\u001b[1;34m'Price Currency'\u001b[0m\u001b[1;33m,\u001b[0m \u001b[1;34m'Venue Identifier'\u001b[0m\u001b[1;33m,\u001b[0m \u001b[1;34m'Side'\u001b[0m\u001b[1;33m,\u001b[0m \u001b[1;34m'Instrument Identifier'\u001b[0m\u001b[1;33m]\u001b[0m\u001b[1;33m)\u001b[0m\u001b[1;33m\u001b[0m\u001b[1;33m\u001b[0m\u001b[0m\n\u001b[0;32m     19\u001b[0m )\n",
      "\u001b[1;32m~\\anaconda3\\lib\\site-packages\\sklearn\\preprocessing\\_encoders.py\u001b[0m in \u001b[0;36mfit_transform\u001b[1;34m(self, X, y)\u001b[0m\n\u001b[0;32m    486\u001b[0m     \u001b[0mRead\u001b[0m \u001b[0mmore\u001b[0m \u001b[1;32min\u001b[0m \u001b[0mthe\u001b[0m \u001b[1;33m:\u001b[0m\u001b[0mref\u001b[0m\u001b[1;33m:\u001b[0m\u001b[0;31m`\u001b[0m\u001b[0mUser\u001b[0m \u001b[0mGuide\u001b[0m \u001b[1;33m<\u001b[0m\u001b[0mpreprocessing_categorical_features\u001b[0m\u001b[1;33m>\u001b[0m\u001b[0;31m`\u001b[0m\u001b[1;33m.\u001b[0m\u001b[1;33m\u001b[0m\u001b[1;33m\u001b[0m\u001b[0m\n\u001b[0;32m    487\u001b[0m     \u001b[0mFor\u001b[0m \u001b[0ma\u001b[0m \u001b[0mcomparison\u001b[0m \u001b[0mof\u001b[0m \u001b[0mdifferent\u001b[0m \u001b[0mencoders\u001b[0m\u001b[1;33m,\u001b[0m \u001b[0mrefer\u001b[0m \u001b[0mto\u001b[0m\u001b[1;33m:\u001b[0m\u001b[1;33m\u001b[0m\u001b[1;33m\u001b[0m\u001b[0m\n\u001b[1;32m--> 488\u001b[1;33m     \u001b[1;33m:\u001b[0m\u001b[0mref\u001b[0m\u001b[1;33m:\u001b[0m\u001b[0;31m`\u001b[0m\u001b[0msphx_glr_auto_examples_preprocessing_plot_target_encoder\u001b[0m\u001b[1;33m.\u001b[0m\u001b[0mpy\u001b[0m\u001b[0;31m`\u001b[0m\u001b[1;33m.\u001b[0m\u001b[1;33m\u001b[0m\u001b[1;33m\u001b[0m\u001b[0m\n\u001b[0m\u001b[0;32m    489\u001b[0m \u001b[1;33m\u001b[0m\u001b[0m\n\u001b[0;32m    490\u001b[0m     \u001b[0mParameters\u001b[0m\u001b[1;33m\u001b[0m\u001b[1;33m\u001b[0m\u001b[0m\n",
      "\u001b[1;32m~\\anaconda3\\lib\\site-packages\\sklearn\\base.py\u001b[0m in \u001b[0;36mfit_transform\u001b[1;34m(self, X, y, **fit_params)\u001b[0m\n\u001b[0;32m    850\u001b[0m     \u001b[1;33m...\u001b[0m     \u001b[1;32mdef\u001b[0m \u001b[0mtransform\u001b[0m\u001b[1;33m(\u001b[0m\u001b[0mself\u001b[0m\u001b[1;33m,\u001b[0m \u001b[0mX\u001b[0m\u001b[1;33m)\u001b[0m\u001b[1;33m:\u001b[0m\u001b[1;33m\u001b[0m\u001b[1;33m\u001b[0m\u001b[0m\n\u001b[0;32m    851\u001b[0m     \u001b[1;33m...\u001b[0m         \u001b[1;32mreturn\u001b[0m \u001b[0mnp\u001b[0m\u001b[1;33m.\u001b[0m\u001b[0mfull\u001b[0m\u001b[1;33m(\u001b[0m\u001b[0mshape\u001b[0m\u001b[1;33m=\u001b[0m\u001b[0mlen\u001b[0m\u001b[1;33m(\u001b[0m\u001b[0mX\u001b[0m\u001b[1;33m)\u001b[0m\u001b[1;33m,\u001b[0m \u001b[0mfill_value\u001b[0m\u001b[1;33m=\u001b[0m\u001b[0mself\u001b[0m\u001b[1;33m.\u001b[0m\u001b[0mparam\u001b[0m\u001b[1;33m)\u001b[0m\u001b[1;33m\u001b[0m\u001b[1;33m\u001b[0m\u001b[0m\n\u001b[1;32m--> 852\u001b[1;33m     \u001b[1;33m>>\u001b[0m\u001b[1;33m>\u001b[0m \u001b[0mtransformer\u001b[0m \u001b[1;33m=\u001b[0m \u001b[0mMyTransformer\u001b[0m\u001b[1;33m(\u001b[0m\u001b[1;33m)\u001b[0m\u001b[1;33m\u001b[0m\u001b[1;33m\u001b[0m\u001b[0m\n\u001b[0m\u001b[0;32m    853\u001b[0m     \u001b[1;33m>>\u001b[0m\u001b[1;33m>\u001b[0m \u001b[0mX\u001b[0m \u001b[1;33m=\u001b[0m \u001b[1;33m[\u001b[0m\u001b[1;33m[\u001b[0m\u001b[1;36m1\u001b[0m\u001b[1;33m,\u001b[0m \u001b[1;36m2\u001b[0m\u001b[1;33m]\u001b[0m\u001b[1;33m,\u001b[0m \u001b[1;33m[\u001b[0m\u001b[1;36m2\u001b[0m\u001b[1;33m,\u001b[0m \u001b[1;36m3\u001b[0m\u001b[1;33m]\u001b[0m\u001b[1;33m,\u001b[0m \u001b[1;33m[\u001b[0m\u001b[1;36m3\u001b[0m\u001b[1;33m,\u001b[0m \u001b[1;36m4\u001b[0m\u001b[1;33m]\u001b[0m\u001b[1;33m]\u001b[0m\u001b[1;33m\u001b[0m\u001b[1;33m\u001b[0m\u001b[0m\n\u001b[0;32m    854\u001b[0m     \u001b[1;33m>>\u001b[0m\u001b[1;33m>\u001b[0m \u001b[0mtransformer\u001b[0m\u001b[1;33m.\u001b[0m\u001b[0mfit_transform\u001b[0m\u001b[1;33m(\u001b[0m\u001b[0mX\u001b[0m\u001b[1;33m)\u001b[0m\u001b[1;33m\u001b[0m\u001b[1;33m\u001b[0m\u001b[0m\n",
      "\u001b[1;32m~\\anaconda3\\lib\\site-packages\\sklearn\\preprocessing\\_encoders.py\u001b[0m in \u001b[0;36mtransform\u001b[1;34m(self, X)\u001b[0m\n\u001b[0;32m    555\u001b[0m           \u001b[0mwill\u001b[0m \u001b[0mbe\u001b[0m \u001b[0mall\u001b[0m \u001b[0mzeros\u001b[0m\u001b[1;33m.\u001b[0m \u001b[0mIn\u001b[0m \u001b[0mthe\u001b[0m \u001b[0minverse\u001b[0m \u001b[0mtransform\u001b[0m\u001b[1;33m,\u001b[0m \u001b[0man\u001b[0m \u001b[0munknown\u001b[0m \u001b[0mcategory\u001b[0m\u001b[1;33m\u001b[0m\u001b[1;33m\u001b[0m\u001b[0m\n\u001b[0;32m    556\u001b[0m           \u001b[0mwill\u001b[0m \u001b[0mbe\u001b[0m \u001b[0mdenoted\u001b[0m \u001b[1;32mas\u001b[0m \u001b[1;32mNone\u001b[0m\u001b[1;33m.\u001b[0m\u001b[1;33m\u001b[0m\u001b[1;33m\u001b[0m\u001b[0m\n\u001b[1;32m--> 557\u001b[1;33m         \u001b[1;33m-\u001b[0m \u001b[1;34m'infrequent_if_exist'\u001b[0m \u001b[1;33m:\u001b[0m \u001b[0mWhen\u001b[0m \u001b[0man\u001b[0m \u001b[0munknown\u001b[0m \u001b[0mcategory\u001b[0m \u001b[1;32mis\u001b[0m \u001b[0mencountered\u001b[0m\u001b[1;33m\u001b[0m\u001b[1;33m\u001b[0m\u001b[0m\n\u001b[0m\u001b[0;32m    558\u001b[0m           \u001b[0mduring\u001b[0m \u001b[0mtransform\u001b[0m\u001b[1;33m,\u001b[0m \u001b[0mthe\u001b[0m \u001b[0mresulting\u001b[0m \u001b[0mone\u001b[0m\u001b[1;33m-\u001b[0m\u001b[0mhot\u001b[0m \u001b[0mencoded\u001b[0m \u001b[0mcolumns\u001b[0m \u001b[1;32mfor\u001b[0m \u001b[0mthis\u001b[0m\u001b[1;33m\u001b[0m\u001b[1;33m\u001b[0m\u001b[0m\n\u001b[0;32m    559\u001b[0m           \u001b[0mfeature\u001b[0m \u001b[0mwill\u001b[0m \u001b[0mmap\u001b[0m \u001b[0mto\u001b[0m \u001b[0mthe\u001b[0m \u001b[0minfrequent\u001b[0m \u001b[0mcategory\u001b[0m \u001b[1;32mif\u001b[0m \u001b[0mit\u001b[0m \u001b[0mexists\u001b[0m\u001b[1;33m.\u001b[0m \u001b[0mThe\u001b[0m\u001b[1;33m\u001b[0m\u001b[1;33m\u001b[0m\u001b[0m\n",
      "\u001b[1;32m~\\anaconda3\\lib\\site-packages\\scipy\\sparse\\compressed.py\u001b[0m in \u001b[0;36mtoarray\u001b[1;34m(self, order, out)\u001b[0m\n\u001b[0;32m   1029\u001b[0m         \u001b[1;32mif\u001b[0m \u001b[0mout\u001b[0m \u001b[1;32mis\u001b[0m \u001b[1;32mNone\u001b[0m \u001b[1;32mand\u001b[0m \u001b[0morder\u001b[0m \u001b[1;32mis\u001b[0m \u001b[1;32mNone\u001b[0m\u001b[1;33m:\u001b[0m\u001b[1;33m\u001b[0m\u001b[1;33m\u001b[0m\u001b[0m\n\u001b[0;32m   1030\u001b[0m             \u001b[0morder\u001b[0m \u001b[1;33m=\u001b[0m \u001b[0mself\u001b[0m\u001b[1;33m.\u001b[0m\u001b[0m_swap\u001b[0m\u001b[1;33m(\u001b[0m\u001b[1;34m'cf'\u001b[0m\u001b[1;33m)\u001b[0m\u001b[1;33m[\u001b[0m\u001b[1;36m0\u001b[0m\u001b[1;33m]\u001b[0m\u001b[1;33m\u001b[0m\u001b[1;33m\u001b[0m\u001b[0m\n\u001b[1;32m-> 1031\u001b[1;33m         \u001b[0mout\u001b[0m \u001b[1;33m=\u001b[0m \u001b[0mself\u001b[0m\u001b[1;33m.\u001b[0m\u001b[0m_process_toarray_args\u001b[0m\u001b[1;33m(\u001b[0m\u001b[0morder\u001b[0m\u001b[1;33m,\u001b[0m \u001b[0mout\u001b[0m\u001b[1;33m)\u001b[0m\u001b[1;33m\u001b[0m\u001b[1;33m\u001b[0m\u001b[0m\n\u001b[0m\u001b[0;32m   1032\u001b[0m         \u001b[1;32mif\u001b[0m \u001b[1;32mnot\u001b[0m \u001b[1;33m(\u001b[0m\u001b[0mout\u001b[0m\u001b[1;33m.\u001b[0m\u001b[0mflags\u001b[0m\u001b[1;33m.\u001b[0m\u001b[0mc_contiguous\u001b[0m \u001b[1;32mor\u001b[0m \u001b[0mout\u001b[0m\u001b[1;33m.\u001b[0m\u001b[0mflags\u001b[0m\u001b[1;33m.\u001b[0m\u001b[0mf_contiguous\u001b[0m\u001b[1;33m)\u001b[0m\u001b[1;33m:\u001b[0m\u001b[1;33m\u001b[0m\u001b[1;33m\u001b[0m\u001b[0m\n\u001b[0;32m   1033\u001b[0m             \u001b[1;32mraise\u001b[0m \u001b[0mValueError\u001b[0m\u001b[1;33m(\u001b[0m\u001b[1;34m'Output array must be C or F contiguous'\u001b[0m\u001b[1;33m)\u001b[0m\u001b[1;33m\u001b[0m\u001b[1;33m\u001b[0m\u001b[0m\n",
      "\u001b[1;32m~\\anaconda3\\lib\\site-packages\\scipy\\sparse\\base.py\u001b[0m in \u001b[0;36m_process_toarray_args\u001b[1;34m(self, order, out)\u001b[0m\n\u001b[0;32m   1200\u001b[0m             \u001b[1;32mreturn\u001b[0m \u001b[0mout\u001b[0m\u001b[1;33m\u001b[0m\u001b[1;33m\u001b[0m\u001b[0m\n\u001b[0;32m   1201\u001b[0m         \u001b[1;32melse\u001b[0m\u001b[1;33m:\u001b[0m\u001b[1;33m\u001b[0m\u001b[1;33m\u001b[0m\u001b[0m\n\u001b[1;32m-> 1202\u001b[1;33m             \u001b[1;32mreturn\u001b[0m \u001b[0mnp\u001b[0m\u001b[1;33m.\u001b[0m\u001b[0mzeros\u001b[0m\u001b[1;33m(\u001b[0m\u001b[0mself\u001b[0m\u001b[1;33m.\u001b[0m\u001b[0mshape\u001b[0m\u001b[1;33m,\u001b[0m \u001b[0mdtype\u001b[0m\u001b[1;33m=\u001b[0m\u001b[0mself\u001b[0m\u001b[1;33m.\u001b[0m\u001b[0mdtype\u001b[0m\u001b[1;33m,\u001b[0m \u001b[0morder\u001b[0m\u001b[1;33m=\u001b[0m\u001b[0morder\u001b[0m\u001b[1;33m)\u001b[0m\u001b[1;33m\u001b[0m\u001b[1;33m\u001b[0m\u001b[0m\n\u001b[0m\u001b[0;32m   1203\u001b[0m \u001b[1;33m\u001b[0m\u001b[0m\n\u001b[0;32m   1204\u001b[0m \u001b[1;33m\u001b[0m\u001b[0m\n",
      "\u001b[1;31mMemoryError\u001b[0m: Unable to allocate 40.1 GiB for an array with shape (643612, 8359) and data type float64"
     ]
    }
   ],
   "source": [
    "# --- Step 6: Model Preparation ---\n",
    "\n",
    "from sklearn.model_selection import train_test_split\n",
    "from sklearn.preprocessing import OneHotEncoder, StandardScaler\n",
    "import pandas as pd\n",
    "\n",
    "# 1. Select relevant features for modeling\n",
    "print(\"\\n[INFO] Selecting relevant modeling features:\")\n",
    "selected_features = ['Quantity', 'Unit Price', 'Trade Amount', 'Price Currency', 'Venue Identifier', 'Side', 'Instrument Identifier']\n",
    "model_df = cleaned_df[selected_features].copy()\n",
    "print(model_df.head(5))\n",
    "\n",
    "# 2. One-hot encode categorical features\n",
    "print(\"\\n[INFO] Encoding categorical features:\")\n",
    "ohe = OneHotEncoder(sparse=False, drop='first')\n",
    "encoded_features = pd.DataFrame(\n",
    "    ohe.fit_transform(model_df[['Price Currency', 'Venue Identifier', 'Side', 'Instrument Identifier']]),\n",
    "    columns=ohe.get_feature_names_out(['Price Currency', 'Venue Identifier', 'Side', 'Instrument Identifier'])\n",
    ")\n",
    "\n",
    "# Combine encoded and numeric columns\n",
    "model_ready_df = pd.concat([model_df[['Quantity', 'Unit Price', 'Trade Amount']].reset_index(drop=True), encoded_features], axis=1)\n",
    "\n",
    "print(f\"[INFO] Final shape after encoding: {model_ready_df.shape}\")\n",
    "print(\"[INFO] Displaying first 5 rows of model-ready dataset:\")\n",
    "print(model_ready_df.head())\n",
    "\n",
    "# 3. Split dataset for modeling\n",
    "print(\"\\n[INFO] Splitting data into training and testing sets:\")\n",
    "X = model_ready_df.drop('Trade Amount', axis=1)\n",
    "y = model_ready_df['Trade Amount']\n",
    "\n",
    "X_train, X_test, y_train, y_test = train_test_split(X, y, test_size=0.2, random_state=42)\n",
    "\n",
    "print(f\"[INFO] Training samples: {X_train.shape[0]}\")\n",
    "print(f\"[INFO] Testing samples: {X_test.shape[0]}\")\n",
    "\n",
    "# 4. Scale numeric variables\n",
    "print(\"\\n[INFO] Scaling numeric features for model consistency:\")\n",
    "scaler = StandardScaler()\n",
    "num_cols = ['Quantity', 'Unit Price']\n",
    "X_train[num_cols] = scaler.fit_transform(X_train[num_cols])\n",
    "X_test[num_cols] = scaler.transform(X_test[num_cols])\n",
    "\n",
    "print(\"[INFO] Model preparation completed. Data is ready for machine learning or regression analysis.\")\n"
   ]
  },
  {
   "cell_type": "code",
   "execution_count": null,
   "id": "9a4f39cf",
   "metadata": {},
   "outputs": [],
   "source": []
  }
 ],
 "metadata": {
  "kernelspec": {
   "display_name": "Python 3 (ipykernel)",
   "language": "python",
   "name": "python3"
  },
  "language_info": {
   "codemirror_mode": {
    "name": "ipython",
    "version": 3
   },
   "file_extension": ".py",
   "mimetype": "text/x-python",
   "name": "python",
   "nbconvert_exporter": "python",
   "pygments_lexer": "ipython3",
   "version": "3.9.7"
  }
 },
 "nbformat": 4,
 "nbformat_minor": 5
}
